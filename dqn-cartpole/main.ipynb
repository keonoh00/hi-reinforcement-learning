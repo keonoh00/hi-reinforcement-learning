{
 "cells": [
  {
   "cell_type": "code",
   "execution_count": 2,
   "metadata": {},
   "outputs": [],
   "source": [
    "# https://pytorch.org/tutorials/intermediate/reinforcement_q_learning.html\n",
    "\n",
    "import matplotlib\n",
    "import matplotlib.pyplot as plt\n",
    "from itertools import count\n",
    "\n",
    "import gym\n",
    "import torch\n",
    "\n",
    "from DQN import DQN\n",
    "from ReplayMemory import ReplayMemory, Transition\n",
    "from utils import select_action, plot_durations\n",
    "\n",
    "\n",
    "\n",
    "def train(policy_net, optimizer, memory, batch_size, gamma, device):\n",
    "    if len(memory) < batch_size:\n",
    "        return\n",
    "    \n",
    "    batch = Transition(*zip(*memory.sample(batch_size)))\n",
    "\n",
    "    non_final_mask = torch.tensor(\n",
    "        tuple(map(lambda s: s is not None, batch.next_state)),\n",
    "        device=device,\n",
    "        dtype=torch.bool,\n",
    "    )\n",
    "    non_final_next_states = torch.cat(\n",
    "        [s for s in batch.next_state if s is not None]\n",
    "    ).to(device)\n",
    "\n",
    "    state_batch = torch.cat(batch.state).to(device)\n",
    "    action_batch = torch.cat(batch.action).to(device)\n",
    "    reward_batch = torch.cat(batch.reward).to(device)\n",
    "\n",
    "    state_action_values = policy_net(state_batch).gather(1, action_batch)\n",
    "\n",
    "    next_state_values = torch.zeros(batch_size, device=device)\n",
    "\n",
    "    with torch.no_grad():\n",
    "        next_state_values[non_final_mask] = policy_net(non_final_next_states).max(1)[0].detach()\n",
    "      \n",
    "    expected_state_action_values = (next_state_values * gamma) + reward_batch\n",
    "\n",
    "    criterion = torch.nn.SmoothL1Loss()\n",
    "    loss = criterion(state_action_values, expected_state_action_values.unsqueeze(1))\n",
    "\n",
    "    optimizer.zero_grad()\n",
    "    loss.backward()\n",
    "\n",
    "    torch.nn.utils.clip_grad_norm_(policy_net.parameters(), 100)\n",
    "    optimizer.step()\n"
   ]
  },
  {
   "cell_type": "code",
   "execution_count": 3,
   "metadata": {},
   "outputs": [
    {
     "name": "stdout",
     "output_type": "stream",
     "text": [
      "Complete\n"
     ]
    },
    {
     "data": {
      "image/png": "[encoded data removed]",
      "text/plain": [
       "<Figure size 432x288 with 1 Axes>"
      ]
     },
     "metadata": {
      "needs_background": "light"
     },
     "output_type": "display_data"
    },
    {
     "data": {
      "text/plain": [
       "<Figure size 432x288 with 0 Axes>"
      ]
     },
     "metadata": {},
     "output_type": "display_data"
    },
    {
     "data": {
      "text/plain": [
       "<Figure size 432x288 with 0 Axes>"
      ]
     },
     "metadata": {},
     "output_type": "display_data"
    },
    {
     "data": {
      "text/plain": [
       "<Figure size 432x288 with 0 Axes>"
      ]
     },
     "metadata": {},
     "output_type": "display_data"
    }
   ],
   "source": [
    "env = gym.make(\"CartPole-v1\")\n",
    "  \n",
    "plt.ion()\n",
    "\n",
    "is_ipython = \"inline\" in matplotlib.get_backend()\n",
    "device = torch.device(\"cuda:1\" if torch.cuda.is_available() else \"cpu\")\n",
    "batch_size = 128\n",
    "gamma = 0.99\n",
    "epsilon_start = 0.9\n",
    "epsilon_end = 0.05\n",
    "epsilon_decay = 1000\n",
    "tau = 0.005\n",
    "lr = 1e-4\n",
    "number_of_episodes = 1000\n",
    "number_of_steps = 100\n",
    "replay_memory_size = 10000\n",
    "number_of_actions = env.action_space.n\n",
    "\n",
    "state = env.reset()\n",
    "number_of_observations = len(state)\n",
    "\n",
    "policy_net = DQN(number_of_observations, number_of_actions).to(device)\n",
    "target_net = DQN(number_of_observations, number_of_actions).to(device)\n",
    "target_net.load_state_dict(policy_net.state_dict())\n",
    "\n",
    "optimizer = torch.optim.Adam(params=policy_net.parameters(), lr=lr, amsgrad=True)\n",
    "memory = ReplayMemory(replay_memory_size)\n",
    "\n",
    "episode_durations = []\n",
    "\n",
    "rewards = []\n",
    "\n",
    "steps_done = 0\n",
    "\n",
    "\n",
    "\n",
    "for episode in range(number_of_episodes):\n",
    "    state = env.reset()\n",
    "    \n",
    "    state = torch.tensor(state, dtype=torch.float32, device=device).unsqueeze(0)\n",
    "\n",
    "    cumulative_reward = 0\n",
    "\n",
    "    for t in count():\n",
    "        action, steps_done = select_action(\n",
    "            env,\n",
    "            policy_net,\n",
    "            device,\n",
    "            state,\n",
    "            steps_done,\n",
    "            epsilon_start,\n",
    "            epsilon_end,\n",
    "            epsilon_decay,\n",
    "        )\n",
    "\n",
    "        next_state, reward, terminated, _ = env.step(action.item())\n",
    "        reward = torch.tensor([reward], device=device)\n",
    "        cumulative_reward += reward\n",
    "        \n",
    "\n",
    "        if terminated:\n",
    "            next_state = None\n",
    "        else:\n",
    "            next_state = torch.tensor(\n",
    "                next_state, dtype=torch.float32, device=device\n",
    "            ).unsqueeze(0)\n",
    "\n",
    "        memory.push(state, action, next_state, reward)\n",
    "\n",
    "        state = next_state\n",
    "\n",
    "        train(policy_net, optimizer, memory, batch_size, gamma, device)\n",
    "\n",
    "        target_net_state_dict = target_net.state_dict()\n",
    "        policy_net_state_dict = policy_net.state_dict()\n",
    "        for key in policy_net_state_dict:\n",
    "            target_net_state_dict[key] = policy_net_state_dict[key] * tau + target_net_state_dict[key] * (1 - tau)\n",
    "        target_net.load_state_dict(target_net_state_dict)\n",
    "\n",
    "\n",
    "        if terminated:\n",
    "            episode_durations.append(steps_done + 1)\n",
    "            rewards.append(cumulative_reward)\n",
    "            plot_durations(episode_durations, is_ipython=is_ipython)\n",
    "            break\n",
    "\n",
    "print(\"Complete\")\n",
    "plot_durations(episode_durations, show_results=True, is_ipython=is_ipython)\n",
    "plt.ioff()\n",
    "plt.show()\n",
    "plt.savefig(\"./dqn-cartpole.png\")\n"
   ]
  }
 ],
 "metadata": {
  "kernelspec": {
   "display_name": "Python 3",
   "language": "python",
   "name": "python3"
  },
  "language_info": {
   "codemirror_mode": {
    "name": "ipython",
    "version": 3
   },
   "file_extension": ".py",
   "mimetype": "text/x-python",
   "name": "python",
   "nbconvert_exporter": "python",
   "pygments_lexer": "ipython3",
   "version": "3.8.10"
  },
  "orig_nbformat": 4
 },
 "nbformat": 4,
 "nbformat_minor": 2
}
